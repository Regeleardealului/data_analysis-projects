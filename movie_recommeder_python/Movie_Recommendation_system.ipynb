{
  "nbformat": 4,
  "nbformat_minor": 0,
  "metadata": {
    "colab": {
      "provenance": []
    },
    "kernelspec": {
      "name": "python3",
      "display_name": "Python 3"
    },
    "language_info": {
      "name": "python"
    }
  },
  "cells": [
    {
      "cell_type": "code",
      "execution_count": 11,
      "metadata": {
        "id": "6JsXORaYNoZM"
      },
      "outputs": [],
      "source": [
        "import pandas as pd\n",
        "import numpy as np\n",
        "import nltk\n",
        "from nltk.stem.porter import PorterStemmer\n",
        "from sklearn.feature_extraction.text import TfidfVectorizer\n",
        "from sklearn.metrics.pairwise import cosine_similarity\n",
        "import gradio as gr\n",
        "import ast"
      ]
    },
    {
      "cell_type": "code",
      "source": [
        "# Load Data\n",
        "movies_path = '/content/drive/MyDrive/Datasets/tmdb_5000_movies.csv'\n",
        "credits_path = '/content/drive/MyDrive/Datasets/tmdb_5000_credits.csv'\n",
        "\n",
        "movies = pd.read_csv(movies_path)\n",
        "credits = pd.read_csv(credits_path)\n",
        "\n",
        "# Merge datasets\n",
        "df = movies.merge(credits, on='title', how='inner')\n",
        "\n",
        "# Keep relevant columns\n",
        "df = df[['id', 'title', 'overview', 'genres', 'keywords', 'cast', 'crew']]\n",
        "df = df.dropna()  # Remove missing values"
      ],
      "metadata": {
        "id": "Jq99EZH2Ueu1"
      },
      "execution_count": 12,
      "outputs": []
    },
    {
      "cell_type": "code",
      "source": [
        "# Convert 'genres', 'keywords', 'cast', 'crew' to strings\n",
        "def extract_names(obj):\n",
        "    obj = ast.literal_eval(obj)\n",
        "    return ' '.join([i['name'] for i in obj])\n",
        "\n",
        "df['genres'] = df['genres'].apply(extract_names)\n",
        "df['keywords'] = df['keywords'].apply(extract_names)\n",
        "df['cast'] = df['cast'].apply(lambda x: ' '.join([i['name'] for i in ast.literal_eval(x)[:3]]))  # Top 3 actors\n",
        "df['crew'] = df['crew'].apply(lambda x: ' '.join([i['name'] for i in ast.literal_eval(x) if i['job'] == 'Director']))  # Only Director\n",
        "\n",
        "df['tags'] = df['overview'] + ' ' + df['genres'] + ' ' + df['keywords'] + ' ' + df['cast'] + ' ' + df['crew']\n",
        "df = df[['id', 'title', 'tags']]\n",
        "\n",
        "def stemming(text):\n",
        "    ps = PorterStemmer()\n",
        "    return ' '.join([ps.stem(word) for word in text.split()])\n",
        "\n",
        "df['tags'] = df['tags'].apply(stemming)"
      ],
      "metadata": {
        "id": "ondllnMoNysD"
      },
      "execution_count": 13,
      "outputs": []
    },
    {
      "cell_type": "code",
      "source": [
        "# Apply TF-IDF\n",
        "vectorizer = TfidfVectorizer(stop_words='english')\n",
        "vectorized_matrix = vectorizer.fit_transform(df['tags'])\n",
        "\n",
        "# Compute cosine similarity\n",
        "cosine_sim = cosine_similarity(vectorized_matrix)"
      ],
      "metadata": {
        "id": "jRfDrQMmN7fJ"
      },
      "execution_count": 14,
      "outputs": []
    },
    {
      "cell_type": "code",
      "source": [
        "# Recommendation function\n",
        "def recommend(movie_name):\n",
        "    movie_name = movie_name.lower()\n",
        "    if movie_name not in df['title'].str.lower().values:\n",
        "        return [\"Movie not found!\"]\n",
        "\n",
        "    idx = df[df['title'].str.lower() == movie_name].index[0]\n",
        "    similarity_scores = list(enumerate(cosine_sim[idx]))\n",
        "    similarity_scores = sorted(similarity_scores, key=lambda x: x[1], reverse=True)\n",
        "    top_movies = similarity_scores[1:6]  # Get top 5\n",
        "\n",
        "    recommendations = [df.iloc[i[0]].title for i in top_movies]\n",
        "    return recommendations"
      ],
      "metadata": {
        "id": "0VLiPz2xObrm"
      },
      "execution_count": 15,
      "outputs": []
    },
    {
      "cell_type": "code",
      "source": [
        "def gradio_recommend(movie_name):\n",
        "    recommendations = recommend(movie_name)\n",
        "    # Convert the recommendations to markdown format\n",
        "    return \"\\n\\n\".join([f\"**{i+1}. {title}**\" for i, title in enumerate(recommendations)])\n",
        "\n",
        "gui = gr.Interface(\n",
        "    fn=gradio_recommend,\n",
        "    inputs=gr.Textbox(label=\"Enter a Movie Title\", placeholder=\"E.g., Titanic\"),\n",
        "    outputs=gr.Markdown(),\n",
        "    title=\"🎬 Movie Recommendation System\",\n",
        "    description=\"Discover movies similar to your favorite ones! Enter a movie title below, and our system will recommend the best matches based on content similarity.\",\n",
        "    theme=\"default\",\n",
        "    allow_flagging=\"never\",\n",
        ")\n",
        "\n",
        "gui.launch()"
      ],
      "metadata": {
        "colab": {
          "base_uri": "https://localhost:8080/",
          "height": 680
        },
        "id": "XshFJ1BtOeHC",
        "outputId": "5898e85d-ce89-4f7d-c231-ac6fc543223b"
      },
      "execution_count": 16,
      "outputs": [
        {
          "output_type": "stream",
          "name": "stderr",
          "text": [
            "/usr/local/lib/python3.11/dist-packages/gradio/interface.py:403: UserWarning: The `allow_flagging` parameter in `Interface` is deprecated.Use `flagging_mode` instead.\n",
            "  warnings.warn(\n"
          ]
        },
        {
          "output_type": "stream",
          "name": "stdout",
          "text": [
            "Running Gradio in a Colab notebook requires sharing enabled. Automatically setting `share=True` (you can turn this off by setting `share=False` in `launch()` explicitly).\n",
            "\n",
            "Colab notebook detected. To show errors in colab notebook, set debug=True in launch()\n",
            "* Running on public URL: https://f69470426fedd814f4.gradio.live\n",
            "\n",
            "This share link expires in 72 hours. For free permanent hosting and GPU upgrades, run `gradio deploy` from the terminal in the working directory to deploy to Hugging Face Spaces (https://huggingface.co/spaces)\n"
          ]
        },
        {
          "output_type": "display_data",
          "data": {
            "text/plain": [
              "<IPython.core.display.HTML object>"
            ],
            "text/html": [
              "<div><iframe src=\"https://f69470426fedd814f4.gradio.live\" width=\"100%\" height=\"500\" allow=\"autoplay; camera; microphone; clipboard-read; clipboard-write;\" frameborder=\"0\" allowfullscreen></iframe></div>"
            ]
          },
          "metadata": {}
        },
        {
          "output_type": "execute_result",
          "data": {
            "text/plain": []
          },
          "metadata": {},
          "execution_count": 16
        }
      ]
    },
    {
      "cell_type": "code",
      "source": [],
      "metadata": {
        "id": "dn-yluO7OgMO"
      },
      "execution_count": 16,
      "outputs": []
    }
  ]
}